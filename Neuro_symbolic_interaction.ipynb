{
  "nbformat": 4,
  "nbformat_minor": 0,
  "metadata": {
    "colab": {
      "provenance": [],
      "authorship_tag": "ABX9TyO4DDZii5HgkIsRMNpF7dkO",
      "include_colab_link": true
    },
    "kernelspec": {
      "name": "python3",
      "display_name": "Python 3"
    },
    "language_info": {
      "name": "python"
    }
  },
  "cells": [
    {
      "cell_type": "markdown",
      "metadata": {
        "id": "view-in-github",
        "colab_type": "text"
      },
      "source": [
        "<a href=\"https://colab.research.google.com/github/ruslanmv/Neuro-symbolic-interaction/blob/main/Neuro_symbolic_interaction.ipynb\" target=\"_parent\"><img src=\"https://colab.research.google.com/assets/colab-badge.svg\" alt=\"Open In Colab\"/></a>"
      ]
    },
    {
      "cell_type": "code",
      "source": [
        "import os\n",
        "import shutil\n",
        "from IPython.display import clear_output\n",
        "from google.colab import userdata\n",
        "# Retrieve the GitHub token from Colab secrets\n",
        "GITHUB_TOKEN = userdata.get('GITHUB_TOKEN_PERSONAL')\n",
        "# Repository URL and name\n",
        "repo_url = \"https://github.com/ruslanmv/Neuro-symbolic-interaction.git\"\n",
        "repo_name = \"Neuro-symbolic-interaction\"\n",
        "\n",
        "# Create the clone command with the token\n",
        "clone_command = f\"git clone https://{GITHUB_TOKEN}@{repo_url.replace('https://', '')}\"\n",
        "\n",
        "# Check if the repository directory exists\n",
        "if not os.path.exists(repo_name):\n",
        "    print(f\"Cloning {repo_name} repository...\")\n",
        "    !{clone_command}\n",
        "    clear_output()\n",
        "    print(f\"{repo_name} repository cloned successfully!\")\n",
        "\n",
        "    # Move contents of the repository to the current directory\n",
        "    print(f\"Moving contents of {repo_name} to current directory...\")\n",
        "    for item in os.listdir(repo_name):\n",
        "        s = os.path.join(repo_name, item)\n",
        "        d = os.path.join(\".\", item)  # Current directory\n",
        "        try:\n",
        "            shutil.move(s, d)  # Move files and directories\n",
        "        except Exception as e:\n",
        "            print(f\"Error moving {item}: {e}\")\n",
        "\n",
        "    shutil.rmtree(repo_name)  # Remove the now-empty repo directory\n",
        "    print(f\"Contents of {repo_name} moved successfully!\")\n",
        "else:\n",
        "    print(f\"{repo_name} repository already exists. Skipping cloning.\")\n",
        "print(\"Finished.\")"
      ],
      "metadata": {
        "colab": {
          "base_uri": "https://localhost:8080/"
        },
        "id": "rqLBphwShLwa",
        "outputId": "c27c22e8-07ba-454c-e54a-96a2814c6955"
      },
      "execution_count": 6,
      "outputs": [
        {
          "output_type": "stream",
          "name": "stdout",
          "text": [
            "Neuro-symbolic-interaction repository cloned successfully!\n",
            "Moving contents of Neuro-symbolic-interaction to current directory...\n",
            "Contents of Neuro-symbolic-interaction moved successfully!\n",
            "Finished.\n"
          ]
        }
      ]
    },
    {
      "cell_type": "code",
      "source": [
        "import os\n",
        "from IPython.display import clear_output\n",
        "def install_requirements(requirements_file=\"requirements.txt\"):\n",
        "    \"\"\"Installs requirements from a given file and clears the output.\"\"\"\n",
        "    if os.path.exists(requirements_file):\n",
        "        print(f\"Installing requirements from {requirements_file}...\")\n",
        "        try:\n",
        "             !pip install -r {requirements_file}\n",
        "             clear_output()  # Clear pip install output\n",
        "             print(f\"Requirements from {requirements_file} installed successfully!\")\n",
        "        except Exception as e:\n",
        "            print(f\"Error installing requirements: {e}\")\n",
        "    else:\n",
        "        print(f\"Requirements file {requirements_file} not found.\")\n",
        "\n",
        "# 2. Install the requirements\n",
        "\n",
        "install_requirements()  # Installs from requirements.txt in current directory\n",
        "print(\"Finished installing requirements (or skipped if not found).\")"
      ],
      "metadata": {
        "colab": {
          "base_uri": "https://localhost:8080/"
        },
        "id": "z1gcRXh_hu9t",
        "outputId": "922bfb39-1922-4c14-db4e-e979c54e25b4"
      },
      "execution_count": 7,
      "outputs": [
        {
          "output_type": "stream",
          "name": "stdout",
          "text": [
            "Requirements from requirements.txt installed successfully!\n",
            "Finished installing requirements (or skipped if not found).\n"
          ]
        }
      ]
    },
    {
      "cell_type": "code",
      "source": [
        "import gradio as gr\n",
        "import threading\n",
        "import time\n",
        "import subprocess\n",
        "from app import demo\n",
        "def launch_gradio(demo):\n",
        "    demo.launch(inline=True, share=True)\n",
        "thread = threading.Thread(target=launch_gradio, args=(demo,))\n",
        "thread.start()"
      ],
      "metadata": {
        "id": "_L8pA5Sqv2uy"
      },
      "execution_count": null,
      "outputs": []
    }
  ]
}